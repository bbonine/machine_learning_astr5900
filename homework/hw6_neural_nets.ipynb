{
 "cells": [
  {
   "cell_type": "markdown",
   "metadata": {},
   "source": [
    "# Homework 6\n",
    "\n",
    "## ASTR 5900, Fall 2020, University of Oklahoma\n",
    "\n",
    "### Neural Networks"
   ]
  },
  {
   "cell_type": "markdown",
   "metadata": {},
   "source": [
    "\n",
    "Imagine a neural network that has already been trained to classify configurations of spins in a lattice as 1 of 2 magnetic phases: ferromagnetic or paramagnetic.  A training set was generated using Monte Carlo at a range of temperatures, and the target classifications were determined for samples generated at temperatures below or above the known critical temperature for the 2D ferromagnetic Ising model with Hamiltonian $$ H = -J\\sum_{<i,j>} \\sigma^z_i \\sigma^z_j $$\n",
    "where $\\sigma^z_k = \\{-1, 1 \\}$ is the spin at site $k$ and the summation is over adjacent spin sites (share an edge).  This Hamiltonian says there is energy stored between adjacent sites with opposite spins.  Because of this, at low temperatures the spins collectively point in a single direction (either up or down).  As the temperature increases and crosses the critical temperature $T_C$, this behavior suddenly fades and the Ising system becomes disordered with an average magnetization of zero."
   ]
  },
  {
   "cell_type": "markdown",
   "metadata": {},
   "source": [
    "### Part A\n",
    "\n",
    "It's time to generate data with the functions we just defined and apply it to the trained neural net.  As you know, a standard feed forward neural network is a series of layers of connected neurons that fire (or fractionally fire) based on the linear sum of weights and inputs from their respective previous layer.\n",
    "\n",
    "The neural network in question has 3 layers: the 400 size input layer (because the input is an spin configuration on a $20 \\times 20$ lattice), a hidden layer with 3 perceptrons, and an output layer of 2 perceptrons.  The weights (3 $\\times $ 400 matrix) and bias (3 $\\times $ 1 matrix) of the first layer are:\n",
    "\n",
    "$$ W_1 = \\frac{1}{N(1 + \\epsilon)}\n",
    " \\begin{pmatrix}\n",
    "  1 & 1 & \\cdots & 1 \\\\\n",
    "  -1 & -1 & \\cdots & -1 \\\\\n",
    "  1 & 1 & \\cdots & 1\n",
    " \\end{pmatrix} \\; \\; \\text{and} \\; \\; b_1 = \\frac{1}{1+\\epsilon} \\begin{pmatrix}\n",
    "  -1 \\\\\n",
    "  -1 \\\\\n",
    "  1\n",
    " \\end{pmatrix}$$\n",
    " \n",
    " This actually works out to be $$ Wx + b = \\frac{1}{1 + \\epsilon}\\begin{pmatrix}\n",
    "  m(x) - \\epsilon \\\\\n",
    "  -m(x) - \\epsilon \\\\\n",
    "  m(x) + \\epsilon\n",
    " \\end{pmatrix}$$\n",
    " \n",
    " where $m(x) = \\frac{1}{N}\\sum_i \\sigma^z_i$ is the total magnetization of configuration $x$.  A heaviside step function is applied to each of these elements because they are Perceptrons.\n",
    " \n",
    "The output's weights and biases are:\n",
    "$$ W_2 = \n",
    " \\begin{pmatrix}\n",
    "  2 & 1 &  -1 \\\\\n",
    "      -2 & -2 & 1\n",
    " \\end{pmatrix} \\; \\; \\text{and} \\; \\; b_2 =\\begin{pmatrix}\n",
    "  0 \\\\\n",
    "    0\n",
    " \\end{pmatrix}$$\n",
    "\n",
    "The output features 2 neurons: one that fires if the input is in the cold, ferromagnetic state and the other if the input is in the warm, paramagnetic state.  Write a function that takes a spin configuration (-1's, 1's) and forward propagates that information through layers as precribed above.  That is, manually perform the matrix multiplication and non-linear activation functions until you get an output to 2 nodes.  Use a small but finite value for $\\epsilon$.\n",
    "\n",
    "Use the spin data from a previous homework, `spins.txt`, to determine the critical temperature of the 2D Ising model:\n",
    "- For every temperature in the dataset, average the output of the final 2 neurons separately.\n",
    "- Plot these 2 averages as a function of temperature.  At what temperature do these lines cross?  That is interpreted as the critical temperature."
   ]
  },
  {
   "cell_type": "markdown",
   "metadata": {},
   "source": [
    "______________________________\n",
    "### $\\textit{Answer:}$"
   ]
  },
  {
   "cell_type": "code",
   "execution_count": 2,
   "metadata": {},
   "outputs": [
    {
     "name": "stdout",
     "output_type": "stream",
     "text": [
      "Populating the interactive namespace from numpy and matplotlib\n"
     ]
    },
    {
     "name": "stderr",
     "output_type": "stream",
     "text": [
      "/home/idies/miniconda3/envs/py37/lib/python3.7/site-packages/IPython/core/magics/pylab.py:160: UserWarning: pylab import has clobbered these variables: ['figsize']\n",
      "`%matplotlib` prevents importing * from pylab and numpy\n",
      "  \"\\n`%matplotlib` prevents importing * from pylab and numpy\"\n"
     ]
    }
   ],
   "source": [
    "##################################################################\n",
    "# Standard python initialization\n",
    "# Execute twice to make sure it takes effect\n",
    "%pylab inline\n",
    "import numpy as np\n",
    "import scipy.stats\n",
    "\n",
    "fontsize = 8\n",
    "figsize = (3,3)\n",
    "dpi = 300\n",
    "\n",
    "# Configure parameters\n",
    "plt.rcParams.update({'font.size': fontsize, 'figure.figsize': figsize, 'figure.dpi': dpi})\n",
    "\n",
    "# Default tick label size\n",
    "plt.rcParams['text.usetex'] = True\n",
    "plt.rcParams['xtick.labelsize'] = fontsize\n",
    "plt.rcParams['ytick.labelsize'] = fontsize\n",
    "plt.rcParams['xtick.direction'] = 'in'\n",
    "plt.rcParams['ytick.direction'] = 'in'\n",
    "plt.rcParams['xtick.major.size'] = 4\n",
    "plt.rcParams['ytick.major.size'] = 4\n",
    "plt.rcParams['xtick.major.width'] = 1\n",
    "plt.rcParams['ytick.major.width'] = 1\n",
    "\n",
    "plt.rcParams['xtick.top'] = True\n",
    "plt.rcParams['ytick.right'] = True\n",
    "plt.rcParams['axes.linewidth'] = 1"
   ]
  },
  {
   "cell_type": "code",
   "execution_count": 3,
   "metadata": {},
   "outputs": [],
   "source": [
    "########################################\n",
    "# Read in the data :\n",
    "temps  = np.loadtxt('spins.txt', usecols = (0))\n",
    "spins = np.loadtxt('spins.txt', usecols = np.arange(1,401))\n"
   ]
  },
  {
   "cell_type": "markdown",
   "metadata": {},
   "source": [
    "We'll start by setting up the matrices given in the problem. W1 is 3x400 matrix where the rows alternate betwee values of +1,-1, and +1: \n"
   ]
  },
  {
   "cell_type": "code",
   "execution_count": 4,
   "metadata": {},
   "outputs": [
    {
     "name": "stdout",
     "output_type": "stream",
     "text": [
      "[[ 0.0025  0.0025  0.0025 ...  0.0025  0.0025  0.0025]\n",
      " [-0.0025 -0.0025 -0.0025 ... -0.0025 -0.0025 -0.0025]\n",
      " [ 0.0025  0.0025  0.0025 ...  0.0025  0.0025  0.0025]] (3, 400)\n",
      "[-1. -1.  1.] (3,)\n"
     ]
    }
   ],
   "source": [
    "epsilon = 1e-12\n",
    "alpha = len(spins[0])*(1+epsilon)     # Prefactor for w1\n",
    "\n",
    "w1_row1 = np.zeros(len(spins[0])) + 1 # set all vals to +1 \n",
    "w1_row2 = np.zeros(len(spins[0])) - 1 # set all vals to -1 \n",
    "w1_row3 = np.zeros(len(spins[0])) + 1 \n",
    "\n",
    "# Construct w1:\n",
    "w1 = (1 /alpha) * np.vstack((w1_row1,w1_row2,w1_row3))\n",
    "\n",
    "# set up bias \n",
    "b1 = (1/(1+epsilon))*np.array([-1,-1,1])\n",
    "\n",
    "print(w1,w1.shape)\n",
    "print(b1, b1.shape)"
   ]
  },
  {
   "cell_type": "markdown",
   "metadata": {},
   "source": [
    "Simliarily we can construct W2 as given:"
   ]
  },
  {
   "cell_type": "code",
   "execution_count": 5,
   "metadata": {},
   "outputs": [
    {
     "name": "stdout",
     "output_type": "stream",
     "text": [
      "[[ 2  1 -1]\n",
      " [-2 -2  1]] (2, 3)\n"
     ]
    }
   ],
   "source": [
    "w2_row1 = np.array([2,1,-1])\n",
    "w2_row2 = np.array([-2,-2,1])\n",
    "\n",
    "#construct w2\n",
    "w2 = np.vstack((w2_row1,w2_row2))\n",
    "\n",
    "# set up bias\n",
    "\n",
    "b2 = np.array([0,0])\n",
    "\n",
    "print(w2,w2.shape)\n"
   ]
  },
  {
   "cell_type": "markdown",
   "metadata": {},
   "source": [
    "Our next step is to iterate through all 10,000 entries in the spin array and preform the matrix multiplication for each one. Our two output perceptrons should therefore be of length 10,000:"
   ]
  },
  {
   "cell_type": "code",
   "execution_count": 6,
   "metadata": {},
   "outputs": [
    {
     "name": "stdout",
     "output_type": "stream",
     "text": [
      "[0. 0. 0. ... 0. 0. 0.] (10000,)\n"
     ]
    }
   ],
   "source": [
    "p1 = np.zeros(len(spins))\n",
    "p2 = np.zeros(len(spins))\n",
    "\n",
    "print(p1,p1.shape)"
   ]
  },
  {
   "cell_type": "code",
   "execution_count": 7,
   "metadata": {},
   "outputs": [],
   "source": [
    "################################################\n",
    "# Begin matrix multiplication \n",
    "\n",
    "for i in range(0,len(spins)):\n",
    "    spin = spins[i,:]                         # select spin\n",
    "    \n",
    "    # First transformation\n",
    "    w1_interm = w1@spin + b1                  # apply first transformation\n",
    "    w1_interm[np.where(w1_interm < 0)] = 0    # Heaviside step function: Set to zero for negative values \n",
    "    w1_interm[np.where(w1_interm > 0)] = 1\n",
    "    \n",
    "    \n",
    "    #Repeat for second transformation \n",
    "    w2_interm = w2@w1_interm\n",
    "    w2_interm[np.where(w2_interm < 0)] = 0 \n",
    "    w2_interm[np.where(w2_interm > 0)] = 1\n",
    "    \n",
    "    # Output is 2d with vals 0 or 1: \n",
    "    # First entry for first perceptron, second is for the other\n",
    "    \n",
    "    p1[i], p2[i] = w2_interm[0], w2_interm[1]\n",
    "    "
   ]
  },
  {
   "cell_type": "code",
   "execution_count": 8,
   "metadata": {},
   "outputs": [
    {
     "name": "stdout",
     "output_type": "stream",
     "text": [
      "[1. 1. 1. ... 0. 0. 0.]\n",
      "[0. 0. 0. ... 1. 1. 1.]\n"
     ]
    }
   ],
   "source": [
    "# Inspect\n",
    "print(p1)\n",
    "print(p2)\n"
   ]
  },
  {
   "cell_type": "markdown",
   "metadata": {},
   "source": [
    "Now that we know which perceptron fires for each temperature measurement, let's average together the results for each unique temperature: "
   ]
  },
  {
   "cell_type": "code",
   "execution_count": 9,
   "metadata": {},
   "outputs": [
    {
     "name": "stdout",
     "output_type": "stream",
     "text": [
      "[1.06345927 1.12691853 1.1903778  1.25383706 1.31729633 1.38075559\n",
      " 1.44421486 1.50767413 1.57113339 1.63459266 1.69805192 1.76151119\n",
      " 1.82497045 1.88842972 1.95188899 2.01534825 2.07880752 2.14226678\n",
      " 2.20572605 2.26918531 2.33264458 2.39610385 2.45956311 2.52302238\n",
      " 2.58648164 2.64994091 2.71340017 2.77685944 2.84031871 2.90377797\n",
      " 2.96723724 3.0306965  3.09415577 3.15761503 3.2210743  3.28453357\n",
      " 3.34799283 3.4114521  3.47491136 3.53837063]\n"
     ]
    }
   ],
   "source": [
    "###########################################\n",
    "# Get unique temperature entries\n",
    "temp_list = np.unique(temps)\n",
    "print(temp_list)"
   ]
  },
  {
   "cell_type": "code",
   "execution_count": 10,
   "metadata": {},
   "outputs": [],
   "source": [
    "##############################################\n",
    "# Average the p-values for a given temperature \n",
    "\n",
    "p1_avg = np.zeros(len(temp_list))           # Null arrays to populate\n",
    "p2_avg = np.zeros(len(temp_list))\n",
    "\n",
    "for i, t in enumerate(temp_list):\n",
    "    here = np.where(temps == t)             # select a temperature\n",
    "    p1_avg[i] = np.mean(p1[here])\n",
    "    p2_avg[i] = np.mean(p2[here])"
   ]
  },
  {
   "cell_type": "code",
   "execution_count": 11,
   "metadata": {},
   "outputs": [
    {
     "data": {
      "text/plain": [
       "<matplotlib.legend.Legend at 0x7fddfa950b10>"
      ]
     },
     "execution_count": 11,
     "metadata": {},
     "output_type": "execute_result"
    },
    {
     "data": {
      "image/png": "[encoded data removed]",
      "text/plain": [
       "<Figure size 900x900 with 1 Axes>"
      ]
     },
     "metadata": {
      "needs_background": "light"
     },
     "output_type": "display_data"
    }
   ],
   "source": [
    "#############################################\n",
    "# Plot\n",
    "plt.plot(temp_list,p1_avg, linewidth = 1, label = 'Perceptron 1')\n",
    "plt.plot(temp_list,p2_avg, linewidth = 1, label = 'Perceptron 2')\n",
    "plt.xlabel('Temperature (K)')\n",
    "plt.ylabel('Mean Output')\n",
    "plt.legend(fontsize = 6)"
   ]
  },
  {
   "cell_type": "markdown",
   "metadata": {},
   "source": [
    "The two lines cross at a temperature of approximately 1.25 - 1.3 K, implying that this is the critical temperature"
   ]
  },
  {
   "cell_type": "markdown",
   "metadata": {},
   "source": [
    "### Part B\n",
    "\n",
    "Train a neural network on conventional software (`sklearn.neural_network.MLPClassifier` or `tensorflow`) to classify spin states as either \"ferromagnetic\" or \"paramagnetic\".  Use the same `spins.txt` data to train and test your model (randomly split the data into 2 halves).  Evaluate the model's performance.\n",
    "\n",
    "You will have to set the labels for the data yourselfs.  Temperatures above 2.269 should be classifed as paramagnetic, and temperatures below should be ferromagnetic."
   ]
  },
  {
   "cell_type": "markdown",
   "metadata": {},
   "source": [
    "### $\\textit{Answer:}$\n",
    "We'll start by setting up the classifications:"
   ]
  },
  {
   "cell_type": "code",
   "execution_count": 12,
   "metadata": {},
   "outputs": [
    {
     "name": "stdout",
     "output_type": "stream",
     "text": [
      "Temp info:\n",
      "[1.06345927 1.06345927 1.06345927 ... 3.53837063 3.53837063 3.53837063]\n",
      "Length: 10000\n",
      "-------------------------------------------\n",
      "Spin info:\n",
      "[[-1. -1. -1. ... -1. -1. -1.]\n",
      " [-1. -1. -1. ... -1. -1. -1.]\n",
      " [-1. -1. -1. ... -1. -1. -1.]\n",
      " ...\n",
      " [ 1.  1.  1. ... -1. -1.  1.]\n",
      " [-1. -1. -1. ... -1.  1. -1.]\n",
      " [ 1. -1.  1. ... -1. -1.  1.]]\n",
      "Length: 10000\n",
      "Dimmensionality: (10000, 400)\n"
     ]
    }
   ],
   "source": [
    "#####################################################\n",
    "# Inspect file from earlier\n",
    "print(\"Temp info:\")\n",
    "print(temps)\n",
    "print(\"Length: \" +str(len(temps)))\n",
    "print(\"-------------------------------------------\")\n",
    "print(\"Spin info:\")\n",
    "print(spins)\n",
    "print(\"Length: \" +str(len(spins)))\n",
    "print(\"Dimmensionality: \" + str(np.shape(spins)))\n"
   ]
  },
  {
   "cell_type": "code",
   "execution_count": 13,
   "metadata": {},
   "outputs": [],
   "source": [
    "#######################################################################\n",
    "# Assign classifications based on whether T < Tcrit\n",
    "T_crit = 2.269\n",
    "\n",
    "labels = np.zeros(len(temps))                  # null array to be populated by classification\n",
    "\n",
    "                                              \n",
    "for i in range(0,len(temps)):       \n",
    "    if temps[i] > T_crit:\n",
    "        labels[i] = 1                          # Flag entries with T > Tcrit; label as paramagetic\n",
    "    "
   ]
  },
  {
   "cell_type": "code",
   "execution_count": 14,
   "metadata": {},
   "outputs": [],
   "source": [
    "################################################################\n",
    "# Shuffle and split in to training and test set:\n",
    "from sklearn.model_selection import train_test_split\n",
    "\n",
    "spin_train, spin_test, label_train, label_test = train_test_split(spins, labels, test_size=0.5, random_state=42)"
   ]
  },
  {
   "cell_type": "code",
   "execution_count": 15,
   "metadata": {},
   "outputs": [
    {
     "name": "stdout",
     "output_type": "stream",
     "text": [
      "Spin training set:[[ 1.  1.  1. ...  1.  1.  1.]\n",
      " [-1. -1. -1. ... -1. -1. -1.]\n",
      " [ 1.  1.  1. ...  1.  1.  1.]\n",
      " ...\n",
      " [-1. -1. -1. ... -1. -1. -1.]\n",
      " [ 1.  1.  1. ...  1.  1.  1.]\n",
      " [-1. -1.  1. ...  1. -1. -1.]]\n",
      "Spin test set: [[ 1. -1.  1. ... -1. -1. -1.]\n",
      " [-1. -1.  1. ... -1. -1. -1.]\n",
      " [ 1.  1.  1. ...  1.  1.  1.]\n",
      " ...\n",
      " [ 1.  1.  1. ...  1.  1.  1.]\n",
      " [ 1.  1.  1. ...  1.  1.  1.]\n",
      " [-1. -1. -1. ... -1. -1. -1.]]\n",
      "---------------------------------------------\n",
      "Label training set:[1. 0. 0. ... 1. 0. 1.]\n",
      "Label test set: [1. 0. 0. ... 0. 0. 0.]\n"
     ]
    }
   ],
   "source": [
    "#####################################################\n",
    "# Inspect\n",
    "print(\"Spin training set:\" + str(spin_train))\n",
    "print(\"Spin test set: \" + str(spin_test))\n",
    "print(\"---------------------------------------------\")\n",
    "print(\"Label training set:\" + str(label_train))\n",
    "print(\"Label test set: \" + str(label_test))\n"
   ]
  },
  {
   "cell_type": "markdown",
   "metadata": {},
   "source": [
    "We'll use TensorFlow to train our neural net:"
   ]
  },
  {
   "cell_type": "code",
   "execution_count": 16,
   "metadata": {},
   "outputs": [],
   "source": [
    "#########################################\n",
    "# Import tensorflow\n",
    "import tensorflow as tf"
   ]
  },
  {
   "cell_type": "markdown",
   "metadata": {},
   "source": [
    "Begin setting up the model. We have one of two classifications we need to be able to identify, so we give our second dense layer a size of 2:"
   ]
  },
  {
   "cell_type": "code",
   "execution_count": 17,
   "metadata": {},
   "outputs": [],
   "source": [
    "########################################\n",
    "# Setup the model\n",
    "model= tf.keras.Sequential([\n",
    "    tf.keras.layers.Dense(500, activation='relu'),\n",
    "    tf.keras.layers.Dense(2)\n",
    "])\n"
   ]
  },
  {
   "cell_type": "code",
   "execution_count": 18,
   "metadata": {},
   "outputs": [],
   "source": [
    "########################################\n",
    "# Compile model\n",
    "\n",
    "model.compile(optimizer='adam',\n",
    "              loss=tf.keras.losses.SparseCategoricalCrossentropy(from_logits=True),\n",
    "              metrics=['accuracy'])"
   ]
  },
  {
   "cell_type": "code",
   "execution_count": 19,
   "metadata": {},
   "outputs": [
    {
     "name": "stdout",
     "output_type": "stream",
     "text": [
      "Train on 5000 samples\n",
      "Epoch 1/10\n",
      "5000/5000 [==============================] - 3s 604us/sample - loss: 0.1461 - accuracy: 0.9422\n",
      "Epoch 2/10\n",
      "5000/5000 [==============================] - 1s 224us/sample - loss: 0.0892 - accuracy: 0.9694\n",
      "Epoch 3/10\n",
      "5000/5000 [==============================] - 1s 203us/sample - loss: 0.0541 - accuracy: 0.9802\n",
      "Epoch 4/10\n",
      "5000/5000 [==============================] - 1s 213us/sample - loss: 0.0390 - accuracy: 0.9852\n",
      "Epoch 5/10\n",
      "5000/5000 [==============================] - 1s 184us/sample - loss: 0.0331 - accuracy: 0.9916\n",
      "Epoch 6/10\n",
      "5000/5000 [==============================] - 1s 211us/sample - loss: 0.0232 - accuracy: 0.9920\n",
      "Epoch 7/10\n",
      "5000/5000 [==============================] - 1s 198us/sample - loss: 0.0200 - accuracy: 0.9924\n",
      "Epoch 8/10\n",
      "5000/5000 [==============================] - 1s 212us/sample - loss: 0.0131 - accuracy: 0.9962\n",
      "Epoch 9/10\n",
      "5000/5000 [==============================] - 1s 200us/sample - loss: 0.0078 - accuracy: 0.9986\n",
      "Epoch 10/10\n",
      "5000/5000 [==============================] - 1s 264us/sample - loss: 0.0050 - accuracy: 0.9988\n"
     ]
    },
    {
     "data": {
      "text/plain": [
       "<tensorflow.python.keras.callbacks.History at 0x7fddac059cd0>"
      ]
     },
     "execution_count": 19,
     "metadata": {},
     "output_type": "execute_result"
    }
   ],
   "source": [
    "##########################################\n",
    "# Train the model\n",
    "model.fit(spin_train, label_train, epochs=10)"
   ]
  },
  {
   "cell_type": "markdown",
   "metadata": {},
   "source": [
    "Pretty good accuracy! Let's quantify the preformance a little more:"
   ]
  },
  {
   "cell_type": "code",
   "execution_count": 20,
   "metadata": {},
   "outputs": [
    {
     "name": "stdout",
     "output_type": "stream",
     "text": [
      "5000/1 - 1s - loss: 0.0953 - accuracy: 0.9558\n",
      "\n",
      "Test accuracy: 0.9558\n"
     ]
    }
   ],
   "source": [
    "##############################################\n",
    "# Evaluate Accuracy\n",
    "test_loss, test_acc = model.evaluate(spin_test,  label_test, verbose=2)\n",
    "\n",
    "print('\\nTest accuracy:', test_acc)"
   ]
  },
  {
   "cell_type": "code",
   "execution_count": 21,
   "metadata": {},
   "outputs": [
    {
     "name": "stdout",
     "output_type": "stream",
     "text": [
      "[[1.0212173e-08 1.0000000e+00]\n",
      " [9.6341705e-01 3.6583014e-02]\n",
      " [9.9999642e-01 3.5796320e-06]\n",
      " ...\n",
      " [9.9999845e-01 1.5794665e-06]\n",
      " [9.9999619e-01 3.7573614e-06]\n",
      " [9.9956447e-01 4.3557427e-04]]\n"
     ]
    }
   ],
   "source": [
    "################################################\n",
    "# Make some predictions\n",
    "probability_model = tf.keras.Sequential([model, \n",
    "                                         tf.keras.layers.Softmax()])\n",
    "\n",
    "predictions = probability_model.predict(spin_test)\n",
    "print(predictions)"
   ]
  },
  {
   "cell_type": "markdown",
   "metadata": {},
   "source": [
    "Returned by this neural net are the probablities that a given spin configuration belongs to either a dimagnetic (Label = 0) or paramagnetic (Label = 1) material. We see the predicted label for the first three entries in the test set are paramagnetic, diamagnetic, and diamagnetic respectively. Let's check:"
   ]
  },
  {
   "cell_type": "code",
   "execution_count": 22,
   "metadata": {},
   "outputs": [
    {
     "name": "stdout",
     "output_type": "stream",
     "text": [
      "[1. 0. 0.]\n"
     ]
    }
   ],
   "source": [
    "print(label_test[:3])"
   ]
  },
  {
   "cell_type": "markdown",
   "metadata": {},
   "source": [
    "Indeed, the neural net looks to be classifying the configurations accurately."
   ]
  }
 ],
 "metadata": {
  "kernelspec": {
   "display_name": "Python 3.7 (py37)",
   "language": "python",
   "name": "py37"
  },
  "language_info": {
   "codemirror_mode": {
    "name": "ipython",
    "version": 3
   },
   "file_extension": ".py",
   "mimetype": "text/x-python",
   "name": "python",
   "nbconvert_exporter": "python",
   "pygments_lexer": "ipython3",
   "version": "3.7.4"
  }
 },
 "nbformat": 4,
 "nbformat_minor": 2
}
