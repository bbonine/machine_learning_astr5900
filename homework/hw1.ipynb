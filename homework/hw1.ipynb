{
 "cells": [
  {
   "cell_type": "markdown",
   "metadata": {},
   "source": [
    "# Homework 1\n",
    "\n",
    "## ASTR 5900, Fall 2020, University of Oklahoma"
   ]
  },
  {
   "cell_type": "markdown",
   "metadata": {},
   "source": [
    "# Problem 1\n",
    "\n",
    "Complete each section in their following cell(s)."
   ]
  },
  {
   "cell_type": "markdown",
   "metadata": {},
   "source": [
    "### Part A\n",
    "\n",
    "Import a crucial python library titled `numpy` that is used for fast, element-wise computations.  You may also give it a short alias such as `np` because we will be calling many functions from this library.  \n",
    "\n",
    "This is not a default python package so if you are not using an online notebook environment like SciServer, so it must be installed manually."
   ]
  },
  {
   "cell_type": "code",
   "execution_count": 1,
   "metadata": {},
   "outputs": [],
   "source": [
    "import numpy as np"
   ]
  },
  {
   "cell_type": "markdown",
   "metadata": {},
   "source": [
    "### Part B\n",
    "\n",
    "Complete these function definitions as described by their docstrings.  Call each function, with parameters if applicable."
   ]
  },
  {
   "cell_type": "code",
   "execution_count": 2,
   "metadata": {},
   "outputs": [
    {
     "name": "stdout",
     "output_type": "stream",
     "text": [
      "Hello World!\n"
     ]
    }
   ],
   "source": [
    "def hello():\n",
    "    \"\"\"Print 'Hello World!'\"\"\"\n",
    "    print('Hello World!')\n",
    "hello()"
   ]
  },
  {
   "cell_type": "code",
   "execution_count": 3,
   "metadata": {},
   "outputs": [
    {
     "data": {
      "text/plain": [
       "16"
      ]
     },
     "execution_count": 3,
     "metadata": {},
     "output_type": "execute_result"
    }
   ],
   "source": [
    "def power(a,b):\n",
    "    \"\"\"Return a^b\"\"\"\n",
    "    return a**b\n",
    "\n",
    "power(2,4)"
   ]
  },
  {
   "cell_type": "markdown",
   "metadata": {},
   "source": [
    "### Part C\n",
    "\n",
    "Write a function that takes a list of numbers as an argument and returns a list of numbers that are squares of the originals (with the same indexing).  Do this with default python."
   ]
  },
  {
   "cell_type": "code",
   "execution_count": 4,
   "metadata": {},
   "outputs": [
    {
     "data": {
      "text/plain": [
       "[4, 16, 36, 64]"
      ]
     },
     "execution_count": 4,
     "metadata": {},
     "output_type": "execute_result"
    }
   ],
   "source": [
    "def square(input):\n",
    "    for i in range(0,len(input)):\n",
    "        input[i] = input[i]**2\n",
    "    return input\n",
    "\n",
    "test = [2,4,6,8]\n",
    "square(test)\n",
    "\n",
    "\n"
   ]
  },
  {
   "cell_type": "markdown",
   "metadata": {},
   "source": [
    "### Part D\n",
    "Now write a function that takes an array-like argument and returns a numpy array of numbers that are squares of the originals.  This must be performed with the `numpy` package using element-wise number operations.  Note this can be done in two simple lines!\n"
   ]
  },
  {
   "cell_type": "markdown",
   "metadata": {},
   "source": [
    "### ${Answer}$:"
   ]
  },
  {
   "cell_type": "code",
   "execution_count": 5,
   "metadata": {},
   "outputs": [
    {
     "data": {
      "text/plain": [
       "array([ 4, 16, 36, 64])"
      ]
     },
     "execution_count": 5,
     "metadata": {},
     "output_type": "execute_result"
    }
   ],
   "source": [
    "def nump_square(input):\n",
    "    return input*input\n",
    "\n",
    "test2 = np.array([2,4,6,8])\n",
    "\n",
    "nump_square(test2)"
   ]
  },
  {
   "cell_type": "markdown",
   "metadata": {},
   "source": [
    "### Part E\n",
    "\n",
    "Write a function that prints every number from 1 to 100 inclusive.  For every number that is divisible by 3 print the string 'Fizz' instead.  For every number that is divisible by 5 print 'Buzz' instead.  If the number is divisible by 3 AND 5 print 'FizzBuzz'.  Call this function."
   ]
  },
  {
   "cell_type": "markdown",
   "metadata": {},
   "source": [
    "### ${Answer}$:"
   ]
  },
  {
   "cell_type": "code",
   "execution_count": 6,
   "metadata": {},
   "outputs": [
    {
     "data": {
      "text/plain": [
       "[1, 2, 'Fizz', 4, 5, 'Fizz', 7, 8, 'Fizz']"
      ]
     },
     "execution_count": 6,
     "metadata": {},
     "output_type": "execute_result"
    }
   ],
   "source": [
    "# Practice:\n",
    "def fizz(list):\n",
    "    for i in range(0,len(list)):\n",
    "        if list[i]%3 == 0:\n",
    "            list[i] = 'Fizz'\n",
    "    return list\n",
    "\n",
    "test1 =list(range(1,10))\n",
    "fizz(test1)"
   ]
  },
  {
   "cell_type": "code",
   "execution_count": 7,
   "metadata": {},
   "outputs": [
    {
     "data": {
      "text/plain": [
       "[1,\n",
       " 2,\n",
       " 'Fizz',\n",
       " 4,\n",
       " 'Buzz',\n",
       " 'Fizz',\n",
       " 7,\n",
       " 8,\n",
       " 'Fizz',\n",
       " 'Buzz',\n",
       " 11,\n",
       " 'Fizz',\n",
       " 13,\n",
       " 14,\n",
       " 'FizzBuzz',\n",
       " 16,\n",
       " 17,\n",
       " 'Fizz',\n",
       " 19,\n",
       " 'Buzz',\n",
       " 'Fizz',\n",
       " 22,\n",
       " 23,\n",
       " 'Fizz',\n",
       " 'Buzz',\n",
       " 26,\n",
       " 'Fizz',\n",
       " 28,\n",
       " 29,\n",
       " 'FizzBuzz',\n",
       " 31,\n",
       " 32,\n",
       " 'Fizz',\n",
       " 34,\n",
       " 'Buzz',\n",
       " 'Fizz',\n",
       " 37,\n",
       " 38,\n",
       " 'Fizz',\n",
       " 'Buzz',\n",
       " 41,\n",
       " 'Fizz',\n",
       " 43,\n",
       " 44,\n",
       " 'FizzBuzz',\n",
       " 46,\n",
       " 47,\n",
       " 'Fizz',\n",
       " 49,\n",
       " 'Buzz',\n",
       " 'Fizz',\n",
       " 52,\n",
       " 53,\n",
       " 'Fizz',\n",
       " 'Buzz',\n",
       " 56,\n",
       " 'Fizz',\n",
       " 58,\n",
       " 59,\n",
       " 'FizzBuzz',\n",
       " 61,\n",
       " 62,\n",
       " 'Fizz',\n",
       " 64,\n",
       " 'Buzz',\n",
       " 'Fizz',\n",
       " 67,\n",
       " 68,\n",
       " 'Fizz',\n",
       " 'Buzz',\n",
       " 71,\n",
       " 'Fizz',\n",
       " 73,\n",
       " 74,\n",
       " 'FizzBuzz',\n",
       " 76,\n",
       " 77,\n",
       " 'Fizz',\n",
       " 79,\n",
       " 'Buzz',\n",
       " 'Fizz',\n",
       " 82,\n",
       " 83,\n",
       " 'Fizz',\n",
       " 'Buzz',\n",
       " 86,\n",
       " 'Fizz',\n",
       " 88,\n",
       " 89,\n",
       " 'FizzBuzz',\n",
       " 91,\n",
       " 92,\n",
       " 'Fizz',\n",
       " 94,\n",
       " 'Buzz',\n",
       " 'Fizz',\n",
       " 97,\n",
       " 98,\n",
       " 'Fizz',\n",
       " 'Buzz']"
      ]
     },
     "execution_count": 7,
     "metadata": {},
     "output_type": "execute_result"
    }
   ],
   "source": [
    "# Now include divisibility by 5:\n",
    "\n",
    "def fizzbuzz(list):\n",
    "    for i in range(0,len(list)):\n",
    "        if list[i]%5 == 0 and list[i]%3== 0:\n",
    "            list[i] = 'FizzBuzz'\n",
    "        \n",
    "        elif list[i]%3==0:\n",
    "            list[i] = 'Fizz'\n",
    "            \n",
    "        elif list[i]%5==0:\n",
    "            list[i] ='Buzz'\n",
    "            \n",
    "    return list\n",
    "\n",
    "test2 = list(range(1,101))\n",
    "fizzbuzz(test2)"
   ]
  },
  {
   "cell_type": "markdown",
   "metadata": {},
   "source": [
    "# Problem 2\n",
    "\n",
    "Using `matplotlib.pyplot`, plot $ \\sin(x) $ versus $ x $ from $0$ to $4\\pi$.  I suggest making your life easier and use `numpy` as well."
   ]
  },
  {
   "cell_type": "markdown",
   "metadata": {},
   "source": [
    "### ${Answer}$:"
   ]
  },
  {
   "cell_type": "code",
   "execution_count": 8,
   "metadata": {},
   "outputs": [
    {
     "data": {
      "text/plain": [
       "<matplotlib.legend.Legend at 0x7fd7cb500d50>"
      ]
     },
     "execution_count": 8,
     "metadata": {},
     "output_type": "execute_result"
    },
    {
     "data": {
      "image/png": "[encoded data removed]",
      "text/plain": [
       "<Figure size 432x288 with 1 Axes>"
      ]
     },
     "metadata": {
      "needs_background": "light"
     },
     "output_type": "display_data"
    }
   ],
   "source": [
    "import matplotlib.pyplot as plt\n",
    "x = np.arange(0,4*np.pi,np.pi/100)\n",
    "y = np.sin(x)\n",
    "plt.xlabel('x')\n",
    "plt.ylabel('f(x)')\n",
    "\n",
    "plt.plot(x, y, label = 'sin(x)')\n",
    "plt.legend()"
   ]
  },
  {
   "cell_type": "markdown",
   "metadata": {},
   "source": [
    "# Problem 3"
   ]
  },
  {
   "cell_type": "markdown",
   "metadata": {},
   "source": [
    "### Part A\n",
    "\n",
    "Correct this class definition, then instantiate a `Cat`."
   ]
  },
  {
   "cell_type": "code",
   "execution_count": 9,
   "metadata": {},
   "outputs": [],
   "source": [
    "# Original\n",
    "class Cat:\n",
    "    \n",
    "    def __init__(name, weight):\n",
    "        name = name\n",
    "        weight = weight"
   ]
  },
  {
   "cell_type": "markdown",
   "metadata": {},
   "source": [
    "### ${Answer}$:\n",
    "All `__init__` must start with a 'self', and all attributes are must be preceded by `self.`"
   ]
  },
  {
   "cell_type": "code",
   "execution_count": 10,
   "metadata": {},
   "outputs": [],
   "source": [
    "# Corrected: \n",
    "class Cat(object):\n",
    "    \n",
    "    def __init__(self, name, weight):\n",
    "        self.name = name\n",
    "        self.weight = weight\n",
    "\n",
    "chonker =Cat('hugo',30) # instantiate"
   ]
  },
  {
   "cell_type": "markdown",
   "metadata": {},
   "source": [
    "### Part B\n",
    "\n",
    "Write a class `Car` that takes 3 arguments and assigns them as attributes: make, model, year.  Give every car a position of 0 initially.  The `Car` class must also have a `drive` method that changes the position of the car by a value given as an argument.  You can assume the car moves in only one dimension."
   ]
  },
  {
   "cell_type": "code",
   "execution_count": 11,
   "metadata": {},
   "outputs": [],
   "source": [
    "class Car(object):\n",
    "    def __init__(self, make, model, year):\n",
    "        self.make = make\n",
    "        self.model = model\n",
    "        self.year = year\n",
    "        self.position = 0\n",
    "        \n",
    "    \n",
    "    def drive(self,delta):\n",
    "        self.position += delta \n",
    "        return self.position"
   ]
  },
  {
   "cell_type": "markdown",
   "metadata": {},
   "source": [
    "### Part C\n",
    "\n",
    "Create an instance of your `Car` class.  Move the car by 5 units by calling its drive method.  Add a `registration` method to your Car class that prints the make, model, and year of a Car instance (this can be done without redefining your Car class!).  Call the registration method of your Car instance."
   ]
  },
  {
   "cell_type": "code",
   "execution_count": 12,
   "metadata": {},
   "outputs": [
    {
     "name": "stdout",
     "output_type": "stream",
     "text": [
      "My car is now at position 5.\n"
     ]
    }
   ],
   "source": [
    "my_car = Car('Subaru', 'Outback', 2020)\n",
    "my_car.drive(5)\n",
    "print(\"My car is now at position \" + str(my_car.position)+\".\")"
   ]
  },
  {
   "cell_type": "code",
   "execution_count": 13,
   "metadata": {},
   "outputs": [
    {
     "name": "stdout",
     "output_type": "stream",
     "text": [
      "This is a 2020 Subaru Outback.\n"
     ]
    }
   ],
   "source": [
    "# Add the registration:\n",
    "def registration(self):\n",
    "    print(\"This is a \" + str(my_car.year) + \" \" + my_car.make + \" \" + my_car.model +\".\")\n",
    "Car.registr8 = registration\n",
    "\n",
    "my_car.registr8()"
   ]
  },
  {
   "cell_type": "markdown",
   "metadata": {},
   "source": [
    "# Problem 4\n",
    "\n",
    "Download the Old Faithful data located [here](http://www.stat.cmu.edu/~larry/all-of-statistics/=data/faithful.dat).  Use python to read in this data and plot it using `matplotlib` with appropriate labels.  You may use default python or any of the canonical 3rd party packages discussed in class (numpy, etc.)."
   ]
  },
  {
   "cell_type": "markdown",
   "metadata": {
    "collapsed": true
   },
   "source": [
    "### ${Answer}$:\n",
    "We'll use `np.loadtxt` to read in the length of the eruption (in minutes) as an array `duration` and the associated time between eruptions as the array `wait`:\n"
   ]
  },
  {
   "cell_type": "code",
   "execution_count": 15,
   "metadata": {},
   "outputs": [
    {
     "data": {
      "text/plain": [
       "Text(0.5, 1.0, 'Old Faithful Eruptions')"
      ]
     },
     "execution_count": 15,
     "metadata": {},
     "output_type": "execute_result"
    },
    {
     "data": {
      "image/png": "[encoded data removed]",
      "text/plain": [
       "<Figure size 576x360 with 1 Axes>"
      ]
     },
     "metadata": {
      "needs_background": "light"
     },
     "output_type": "display_data"
    }
   ],
   "source": [
    "# Read in the text file\n",
    "duration, wait = np.loadtxt('lecture_01/old_faithful.txt',skiprows = 1, unpack = True, usecols=(1,2))\n",
    "\n",
    "plt.figure(figsize=[8,5])\n",
    "plt.scatter(duration,wait, s = 7)\n",
    "plt.xlabel('Duration (Minutes)')\n",
    "plt.ylabel('Time Between Eruption (Minutes)')\n",
    "plt.title('Old Faithful Eruptions')\n",
    "\n",
    "\n"
   ]
  },
  {
   "cell_type": "markdown",
   "metadata": {},
   "source": [
    "# Problem 5\n",
    "\n",
    "Create a `5`x`10` `numpy` array filled with elements that were sampled from a standard normal distribution.  Print this array.\n",
    "\n",
    "Then, with proper list slicing, print the 2nd column then the 4th row of this array.  Compare with the original array to ensure you are doing this correctly. (Note: python indexing starts at 0, so the 2nd column is after the 0th and 1st columns :-) )"
   ]
  },
  {
   "cell_type": "markdown",
   "metadata": {},
   "source": [
    "### ${Answer}$:\n",
    "To do this we first initiate a a 5x10 numpy ndarray. Noting that the first index pulls out the first 'row' and the second index pulls out the the 'column' for that row, we can loop through each of the 10 values in a given row, reassign their value to one drawn from `np.random.uniform`, and then move on to the next row until we've reassigned every entry in the 5x10 array:"
   ]
  },
  {
   "cell_type": "code",
   "execution_count": 16,
   "metadata": {},
   "outputs": [
    {
     "data": {
      "text/plain": [
       "array([[0.82289778, 0.12527012, 0.39461027, 0.59485801, 0.63326902,\n",
       "        0.12260288, 0.68050053, 0.84789252, 0.54836807, 0.48786643],\n",
       "       [0.46292306, 0.96806078, 0.47613897, 0.14034515, 0.02601076,\n",
       "        0.90672392, 0.9907504 , 0.1035753 , 0.22792629, 0.29067242],\n",
       "       [0.81991088, 0.33504928, 0.82349802, 0.764245  , 0.47755728,\n",
       "        0.12649266, 0.85336202, 0.14925314, 0.61255626, 0.79139617],\n",
       "       [0.45228918, 0.5793697 , 0.35783211, 0.58412124, 0.82492037,\n",
       "        0.28252124, 0.48223374, 0.87504883, 0.2420673 , 0.5737394 ],\n",
       "       [0.4099494 , 0.20441317, 0.73148321, 0.38420332, 0.94686923,\n",
       "        0.46074652, 0.14233438, 0.16010128, 0.13912586, 0.68687853]])"
      ]
     },
     "execution_count": 16,
     "metadata": {},
     "output_type": "execute_result"
    }
   ],
   "source": [
    "norm_rand = np.ndarray(shape = (5,10))\n",
    "# Populate the array with uniform random values:\n",
    "for i in range(0,len(norm_rand)): \n",
    "    for j in range(0,len(norm_rand[i])): \n",
    "        norm_rand[i,j] = np.random.uniform()\n",
    "norm_rand"
   ]
  },
  {
   "cell_type": "markdown",
   "metadata": {},
   "source": [
    "(There's probably a more elegant way to do this by directly initizaling the 5x10 array with the given values, but oh well)"
   ]
  },
  {
   "cell_type": "code",
   "execution_count": 17,
   "metadata": {},
   "outputs": [
    {
     "name": "stdout",
     "output_type": "stream",
     "text": [
      "Second column: [0.12527012 0.96806078 0.33504928 0.5793697  0.20441317]\n",
      "Fourth row: [0.45228918 0.5793697  0.35783211 0.58412124 0.82492037 0.28252124\n",
      " 0.48223374 0.87504883 0.2420673  0.5737394 ]\n"
     ]
    }
   ],
   "source": [
    "#Pull out the 2nd column and fourth row using list slicing\n",
    "print('Second column:', norm_rand[:,1])\n",
    "print('Fourth row:', norm_rand[3,:])"
   ]
  },
  {
   "cell_type": "markdown",
   "metadata": {},
   "source": [
    "# Problem 6 "
   ]
  },
  {
   "cell_type": "markdown",
   "metadata": {},
   "source": [
    "Sample 500 numbers from a poisson distribution ($ \\lambda = 7 $) using a single function call from `numpy.random`.  Take a look at the [docs](https://docs.scipy.org/doc//numpy-1.14.0/reference/routines.random.html).  Then, calculate the mean and variance using numpy functions as well.  Again, there is [documentation for this](https://numpy.org/doc/stable/reference/routines.statistics.html)."
   ]
  },
  {
   "cell_type": "markdown",
   "metadata": {},
   "source": [
    "### ${Answer}$:\n",
    "From the documentation, we see that `numpy.random.poisson` can be fed arguments for `lam` and `size` directly:"
   ]
  },
  {
   "cell_type": "code",
   "execution_count": 18,
   "metadata": {},
   "outputs": [
    {
     "data": {
      "text/plain": [
       "array([ 4,  5,  6,  5,  9,  9, 10,  5, 10,  8,  7,  9,  4, 13,  6,  2,  8,\n",
       "        8,  7,  5, 10,  7,  7,  6, 10,  4,  2,  6,  6,  4,  6,  9,  3,  9,\n",
       "        9, 13,  6,  8,  9,  2,  7,  2,  6,  6,  5,  3, 10,  8,  8,  9,  5,\n",
       "        6,  4,  9,  6,  7, 11,  7,  7,  3, 10,  9,  8,  5,  9,  7,  9, 11,\n",
       "        9,  9, 10,  7,  7,  7,  4, 12,  2, 11,  7,  5, 12,  4,  7,  5,  3,\n",
       "        6,  6,  4,  6, 11,  9,  9, 10,  2,  9,  8,  8,  9, 14,  9,  4,  7,\n",
       "        8,  9, 12,  9,  8, 12,  7, 13,  5,  9,  6,  8,  4,  5,  5,  3,  9,\n",
       "        8,  7,  9,  9,  5,  4,  9,  3,  5,  7, 11,  9,  6, 15,  7,  8,  8,\n",
       "        6,  6,  4,  3,  8, 11,  5,  4,  5,  6, 12,  6,  6,  6,  8,  4,  9,\n",
       "        6,  4,  5,  6,  4,  7,  5,  5,  9,  7,  8,  4,  5,  9,  7,  6, 10,\n",
       "        7,  8, 11,  6,  3, 10,  7,  9,  5,  7,  9, 10,  7,  4,  4,  6,  7,\n",
       "        6,  8,  3,  4,  5,  7,  6,  4,  7,  4,  7,  3,  8,  9, 10, 10,  7,\n",
       "        5, 13,  4,  7,  9,  6,  5,  6,  6, 10,  9,  7,  8,  6,  4,  8,  7,\n",
       "        9,  6,  9,  4,  8,  6,  6,  4,  9,  4,  9,  8,  5, 13,  7,  6, 10,\n",
       "       10, 10,  8,  9, 13,  4,  5,  4, 10,  5,  8,  3,  7, 11,  4,  5,  3,\n",
       "        5, 10,  9, 13,  7,  9,  7, 11,  8,  7,  7,  3,  2,  7,  5,  6, 13,\n",
       "        8,  8, 10,  7,  5,  7,  8,  5,  6,  5,  5, 11,  7,  3,  5,  6,  7,\n",
       "        3,  8,  6,  7,  8, 10, 11,  8,  7, 12,  8,  4,  4,  7, 14,  9,  6,\n",
       "        7,  9,  8,  8,  6,  8,  7,  6,  3,  6,  6, 12,  9,  7, 10,  3,  6,\n",
       "       10,  6,  6,  7,  5,  6,  7,  7,  5,  4, 10,  8,  6,  8,  6,  7,  3,\n",
       "        9,  8,  9, 15,  8,  8,  5,  8,  4,  7, 10,  3,  7,  9,  7,  3,  5,\n",
       "        8,  7,  5,  5, 10, 12,  3,  8,  6,  8,  8,  4, 11,  6,  7,  7,  7,\n",
       "        8,  3,  9,  9,  6,  4,  6,  7,  8,  8,  7,  8,  6,  6,  7,  3,  5,\n",
       "        7,  8,  8,  0,  9,  9,  9,  7,  7,  2,  6,  9,  6,  6,  8,  8,  6,\n",
       "        7,  6,  9,  3,  5,  4,  6,  6,  4,  7,  8,  8,  9,  5,  3, 10,  6,\n",
       "        8,  9,  6,  2, 15, 11, 10,  1,  9,  4, 10,  3,  6,  9, 13,  9,  4,\n",
       "        9,  8,  4,  9,  5,  3, 11, 11, 10,  8,  5,  6,  8, 10,  9,  8,  9,\n",
       "        8,  6,  9,  6,  9,  8,  8,  7,  6,  6,  6,  7,  7, 10,  5,  3, 12,\n",
       "        5,  6,  8,  4,  4,  7,  5,  7,  6,  4,  5,  4,  7,  3,  6,  4,  6,\n",
       "       11,  8,  4,  9,  5,  7,  5])"
      ]
     },
     "execution_count": 18,
     "metadata": {},
     "output_type": "execute_result"
    }
   ],
   "source": [
    "poisson = np.random.poisson(lam = 7, size = 500)\n",
    "(poisson)"
   ]
  },
  {
   "cell_type": "markdown",
   "metadata": {},
   "source": [
    "We can now calculate the mean and varience using the aforementioned numpy functions:"
   ]
  },
  {
   "cell_type": "code",
   "execution_count": 19,
   "metadata": {},
   "outputs": [
    {
     "name": "stdout",
     "output_type": "stream",
     "text": [
      "The mean of this poisson distribution is 7.004\n",
      "The variance of this poisson distribution is 6.4039839999999995\n"
     ]
    }
   ],
   "source": [
    "mean = np.mean(poisson)\n",
    "variance = np.var(poisson)\n",
    "\n",
    "print(\"The mean of this poisson distribution is \" + str(mean))\n",
    "print(\"The variance of this poisson distribution is \" + str(variance) )"
   ]
  },
  {
   "cell_type": "markdown",
   "metadata": {},
   "source": [
    "# Problem 7\n",
    "\n",
    "Briefly summarize your previous programming experience.  How much of that was with python?  About how long did this assignment take you?  (There is no wrong answer, we just want an idea of how to tailor the assignments.)\n",
    "\n"
   ]
  },
  {
   "cell_type": "markdown",
   "metadata": {
    "collapsed": true
   },
   "source": [
    "### ${Answer}$:\n",
    "My previous programming experience is mostly in python with a little bit of LaTeX and bash command line sprinkled in there. I use the `numpy` and `matplotlib`libraries extensively for research. \n",
    "\n",
    "This assignment probably took a couple hours of unfocused work (there are so many distractions when you're working from home!). Not that my opionion matters since there is a clear conflict of interest, but I think this was a good assignment length for an introductory python assignment."
   ]
  }
 ],
 "metadata": {
  "kernelspec": {
   "display_name": "Python 3.7 (py37)",
   "language": "python",
   "name": "py37"
  },
  "language_info": {
   "codemirror_mode": {
    "name": "ipython",
    "version": 3
   },
   "file_extension": ".py",
   "mimetype": "text/x-python",
   "name": "python",
   "nbconvert_exporter": "python",
   "pygments_lexer": "ipython3",
   "version": "3.7.4"
  }
 },
 "nbformat": 4,
 "nbformat_minor": 1
}
