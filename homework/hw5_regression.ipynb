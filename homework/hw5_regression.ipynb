{
 "cells": [
  {
   "cell_type": "markdown",
   "metadata": {},
   "source": [
    "# Homework 5\n",
    "\n",
    "## ASTR 5900, Fall 2020, University of Oklahoma\n",
    "\n",
    "### Regression"
   ]
  },
  {
   "cell_type": "markdown",
   "metadata": {},
   "source": [
    "# Problem 1"
   ]
  },
  {
   "cell_type": "markdown",
   "metadata": {},
   "source": [
    "Polymer dielectrics have many applications such as in organic photovoltaics and wearable electronics.  One property that a polymer should have as a dielectric is a high bandgap energy.  There are two compounding difficulties in searching for polymer candidates for these technologies: the volume of chemical space is vast and the evaluation of material properties via *ab initio* methods are computationally expensive.  However it is possible to build a model to  predict the properties of polymers using regression, a supervised learning method.\n",
    "\n",
    "In this problem we will perform regression on the bandgap energy of certain polymers.  The data is located in `polymers.csv` on canvas.  Featured are 284 unique 4-block materials composed of 7 different molecular building blocks: $CH_2$, $NH$, $CO$, $C_6 H_4$, $C_4 H_2 S$, $CS$, and $O$.  The recorded properties are understood to apply to very long polymers composed of repeated chains of these units.\n",
    "\n",
    "### Part A\n",
    "\n",
    "The choice of how data is represented is an important part of machine learning.  One such representation of our molecule data is the $M_{II}$ fingerprint, which is a normalized count of the number of different types of pairs of building blocks in a polyer.  The representation is therefore a $7 \\times 7$ matrix with these specifications:\n",
    "\n",
    "1. The sum of all elements in the matrix should be equal to 4 (since we are dealing with 4-block materials) $$ \\sum^7_{i,j} M_{ij} = 4$$\n",
    "2. The sum of elemnents in any row or column of $M$ should be equal to the total number of blocks of that kind in the polymer.\n",
    "3. The period symmetry in the polymer dictates that $M$ is a symmetric matrix.  In other words, polymers have the same bandgap energy if they are mirrored.\n",
    "4. The diagonal elements of $M$ are integers.\n",
    "\n",
    "Transform the data from `polymers.csv` so that each molecule is represented in the $M_{II}$ fingerprint.\n",
    "\n",
    "I am providing code to create the dataset as described, but you should convince yourself it is working as intended."
   ]
  },
  {
   "cell_type": "markdown",
   "metadata": {},
   "source": [
    "### $\\textit{Answer:}$\n",
    "\n",
    "Let's read in the data set and run the provided code. Then we'll do a sanity check to make sure the data follow the four critera described above:"
   ]
  },
  {
   "cell_type": "code",
   "execution_count": 45,
   "metadata": {},
   "outputs": [
    {
     "name": "stdout",
     "output_type": "stream",
     "text": [
      "Populating the interactive namespace from numpy and matplotlib\n"
     ]
    },
    {
     "name": "stderr",
     "output_type": "stream",
     "text": [
      "/home/idies/miniconda3/envs/py37/lib/python3.7/site-packages/IPython/core/magics/pylab.py:160: UserWarning: pylab import has clobbered these variables: ['test', 'figsize', 'clf']\n",
      "`%matplotlib` prevents importing * from pylab and numpy\n",
      "  \"\\n`%matplotlib` prevents importing * from pylab and numpy\"\n"
     ]
    }
   ],
   "source": [
    "## Initiate python stuff\n",
    "## Execute twice to make sure it takes effect\n",
    "%pylab inline\n",
    "import numpy as np\n",
    "import scipy.stats\n",
    "\n",
    "fontsize = 8\n",
    "figsize = (3,3)\n",
    "dpi = 300\n",
    "\n",
    "# Configure parameters\n",
    "plt.rcParams.update({'font.size': fontsize, 'figure.figsize': figsize, 'figure.dpi': dpi})\n",
    "\n",
    "# Default tick label size\n",
    "plt.rcParams['text.usetex'] = True\n",
    "plt.rcParams['xtick.labelsize'] = fontsize\n",
    "plt.rcParams['ytick.labelsize'] = fontsize\n",
    "plt.rcParams['xtick.direction'] = 'in'\n",
    "plt.rcParams['ytick.direction'] = 'in'\n",
    "plt.rcParams['xtick.major.size'] = 4\n",
    "plt.rcParams['ytick.major.size'] = 4\n",
    "plt.rcParams['xtick.major.width'] = 1\n",
    "plt.rcParams['ytick.major.width'] = 1\n",
    "\n",
    "plt.rcParams['xtick.top'] = True\n",
    "plt.rcParams['ytick.right'] = True\n",
    "plt.rcParams['axes.linewidth'] = 1"
   ]
  },
  {
   "cell_type": "code",
   "execution_count": 46,
   "metadata": {},
   "outputs": [],
   "source": [
    "'''\n",
    "%%%%%%%%%%%%%%%%%%%\n",
    "Provided Code\n",
    "%%%%%%%%%%%%%%%%%%%\n",
    "'''\n",
    "\n",
    "import csv\n",
    "\n",
    "\n",
    "blocks = ['CH2', 'NH', 'CO', 'C6H4', 'C4H2S', 'CS', 'O']\n",
    "\n",
    "fingerprints = []\n",
    "eps = []\n",
    "bgs = []\n",
    "\n",
    "with open('polymers.csv', 'r') as csvfile:\n",
    "    reader = csv.reader(csvfile, delimiter=',')\n",
    "    next(reader, None)\n",
    "    for row in reader:\n",
    "        poly_str, ep, bg = row[1], row[-2], row[-1]\n",
    "        polymer = poly_str.split('-')\n",
    "        fingerprint = np.zeros([len(blocks)]*2)\n",
    "        \n",
    "        for i in range(len(polymer)):\n",
    "            try:\n",
    "                mol1, mol2 = polymer[i], polymer[i+1]\n",
    "            except IndexError:\n",
    "                mol1, mol2 = polymer[i], polymer[0]\n",
    "                \n",
    "            i1, i2 = blocks.index(mol1), blocks.index(mol2)\n",
    "            \n",
    "            fingerprint[i1, i2] += 1\n",
    "            fingerprint[i2, i1] += 1\n",
    "          \n",
    "        fingerprints.append(fingerprint/2)\n",
    "        eps.append(ep)\n",
    "        bgs.append(bg)\n",
    "\n",
    "fingerprints = np.array(fingerprints)\n",
    "eps = np.array(eps, dtype='float')\n",
    "bgs = np.array(bgs, dtype='float')"
   ]
  },
  {
   "cell_type": "code",
   "execution_count": 47,
   "metadata": {},
   "outputs": [
    {
     "name": "stdout",
     "output_type": "stream",
     "text": [
      "(284, 7, 7)\n",
      "[[[0.  0.  0.5 ... 0.  0.5 0. ]\n",
      "  [0.  0.  0.5 ... 0.  0.5 0. ]\n",
      "  [0.5 0.5 0.  ... 0.  0.  0. ]\n",
      "  ...\n",
      "  [0.  0.  0.  ... 0.  0.  0. ]\n",
      "  [0.5 0.5 0.  ... 0.  0.  0. ]\n",
      "  [0.  0.  0.  ... 0.  0.  0. ]]\n",
      "\n",
      " [[0.  0.  0.  ... 0.  0.5 0.5]\n",
      "  [0.  0.  0.  ... 0.  0.  0. ]\n",
      "  [0.  0.  0.  ... 0.  0.  0. ]\n",
      "  ...\n",
      "  [0.  0.  0.  ... 0.  0.  0. ]\n",
      "  [0.5 0.  0.  ... 0.  0.  0. ]\n",
      "  [0.5 0.  0.  ... 0.  0.  0. ]]\n",
      "\n",
      " [[0.  0.  0.  ... 0.  0.  0. ]\n",
      "  [0.  0.  0.  ... 0.  0.  0. ]\n",
      "  [0.  0.  0.  ... 0.  0.  0. ]\n",
      "  ...\n",
      "  [0.  0.  0.  ... 0.  0.5 0. ]\n",
      "  [0.  0.  0.  ... 0.5 0.  0. ]\n",
      "  [0.  0.  0.  ... 0.  0.  0. ]]\n",
      "\n",
      " ...\n",
      "\n",
      " [[0.  0.  0.  ... 0.  2.  0. ]\n",
      "  [0.  0.  0.  ... 0.  0.  0. ]\n",
      "  [0.  0.  0.  ... 0.  0.  0. ]\n",
      "  ...\n",
      "  [0.  0.  0.  ... 0.  0.  0. ]\n",
      "  [2.  0.  0.  ... 0.  0.  0. ]\n",
      "  [0.  0.  0.  ... 0.  0.  0. ]]\n",
      "\n",
      " [[0.  0.  0.  ... 0.  0.  0. ]\n",
      "  [0.  0.  0.  ... 0.  0.5 0. ]\n",
      "  [0.  0.  0.  ... 0.  0.  0. ]\n",
      "  ...\n",
      "  [0.  0.  0.  ... 0.  0.  0. ]\n",
      "  [0.  0.5 0.  ... 0.  0.  0. ]\n",
      "  [0.  0.  0.  ... 0.  0.  0. ]]\n",
      "\n",
      " [[0.  1.  0.  ... 0.  0.  0. ]\n",
      "  [1.  0.  0.  ... 0.  0.  1. ]\n",
      "  [0.  0.  0.  ... 0.  0.  0. ]\n",
      "  ...\n",
      "  [0.  0.  0.  ... 0.  0.  0. ]\n",
      "  [0.  0.  0.  ... 0.  0.  0. ]\n",
      "  [0.  1.  0.  ... 0.  0.  0. ]]]\n"
     ]
    }
   ],
   "source": [
    "# Inspect the data\n",
    "print(fingerprints.shape)\n",
    "print(fingerprints)"
   ]
  },
  {
   "cell_type": "markdown",
   "metadata": {},
   "source": [
    "Let's take a look at the first block:"
   ]
  },
  {
   "cell_type": "code",
   "execution_count": 48,
   "metadata": {},
   "outputs": [
    {
     "name": "stdout",
     "output_type": "stream",
     "text": [
      "[[0.  0.  0.5 0.  0.  0.5 0. ]\n",
      " [0.  0.  0.5 0.  0.  0.5 0. ]\n",
      " [0.5 0.5 0.  0.  0.  0.  0. ]\n",
      " [0.  0.  0.  0.  0.  0.  0. ]\n",
      " [0.  0.  0.  0.  0.  0.  0. ]\n",
      " [0.5 0.5 0.  0.  0.  0.  0. ]\n",
      " [0.  0.  0.  0.  0.  0.  0. ]]\n"
     ]
    }
   ],
   "source": [
    "print(fingerprints[0])"
   ]
  },
  {
   "cell_type": "code",
   "execution_count": 49,
   "metadata": {},
   "outputs": [
    {
     "name": "stdout",
     "output_type": "stream",
     "text": [
      "4.0\n"
     ]
    }
   ],
   "source": [
    "# Block 4 material: Check that sum of elements = 4:\n",
    "print(np.sum(fingerprints[0]))"
   ]
  },
  {
   "cell_type": "markdown",
   "metadata": {},
   "source": [
    "We see that for this particular fingerprint, the elements sum to 4 as promised. We can also see that the diagonal elements are integers (in this case, zero)."
   ]
  },
  {
   "cell_type": "markdown",
   "metadata": {},
   "source": [
    "### Part B\n",
    "\n",
    "Perform Kernel Ridge Regression on the data using `sklearn.kernel_ridge.KernelRidge`.  Use a Gaussian kernel with a width ($\\sigma$) of 25.  Use an alpha parameter of $10^{-5}$.\n",
    "\n",
    "You must define your own Gaussian kernel that goes like $$ k(\\vec{x}, \\vec{v}) = \\exp\\left( -\\frac{1}{2\\sigma^2} || \\vec{x} - \\vec{v}||^2\\right)$$\n",
    "Read this link on `KernelRidge` objects to understand how to implement it: http://scikit-learn.org/stable/modules/generated/sklearn.kernel_ridge.KernelRidge.html#sklearn.kernel_ridge.KernelRidge\n",
    "\n",
    "Use the first 150 data points to train your model, then the remaining 134 to test it.  Calculate the standard error of the test set.  Plot the model values of the data points against their target values, and color each point according to its membership in the test or training set.  Use appropriate labels.\n"
   ]
  },
  {
   "cell_type": "code",
   "execution_count": 50,
   "metadata": {},
   "outputs": [],
   "source": [
    "# Set up training data\n",
    "X = fingerprints\n",
    "y = bgs\n",
    "\n",
    "X_train = X[:150]\n",
    "y_train = y[:150]"
   ]
  },
  {
   "cell_type": "code",
   "execution_count": 51,
   "metadata": {},
   "outputs": [],
   "source": [
    "# Setup kernel\n",
    "\n",
    "def gauss_kerl(x,v):\n",
    "    sig = 25\n",
    "    \n",
    "    return np.exp((-1/(2*sig**2))*np.linalg.norm(x-v)**2)\n",
    "    "
   ]
  },
  {
   "cell_type": "code",
   "execution_count": 9,
   "metadata": {},
   "outputs": [
    {
     "data": {
      "text/plain": [
       "(150, 7, 7)"
      ]
     },
     "execution_count": 9,
     "metadata": {},
     "output_type": "execute_result"
    }
   ],
   "source": [
    "X_train.shape"
   ]
  },
  {
   "cell_type": "code",
   "execution_count": 52,
   "metadata": {},
   "outputs": [
    {
     "name": "stdout",
     "output_type": "stream",
     "text": [
      "(150, 49)\n"
     ]
    }
   ],
   "source": [
    "# Try flattening..?\n",
    "test = X_train\n",
    "\n",
    "test = np.reshape(test, (len(test),49))\n",
    "\n",
    "test_2 = np.reshape(X, (len(X),49))\n",
    "\n",
    "print(test.shape)"
   ]
  },
  {
   "cell_type": "code",
   "execution_count": 72,
   "metadata": {},
   "outputs": [
    {
     "name": "stdout",
     "output_type": "stream",
     "text": [
      "[[0.  0.  0.5 ... 0.  0.  0. ]\n",
      " [0.  0.  0.  ... 0.  0.  0. ]\n",
      " [0.  0.  0.  ... 0.  0.  0. ]\n",
      " ...\n",
      " [0.  0.  0.  ... 0.  0.  0. ]\n",
      " [0.  0.  0.  ... 0.  0.  0. ]\n",
      " [0.  0.  0.  ... 1.  0.  0. ]]\n"
     ]
    }
   ],
   "source": [
    "print(test)"
   ]
  },
  {
   "cell_type": "code",
   "execution_count": 58,
   "metadata": {},
   "outputs": [
    {
     "data": {
      "text/plain": [
       "KernelRidge(alpha=1e-05, coef0=1, degree=3, gamma=None,\n",
       "            kernel=<function gauss_kerl at 0x7f2e70c3a170>, kernel_params=None)"
      ]
     },
     "execution_count": 58,
     "metadata": {},
     "output_type": "execute_result"
    }
   ],
   "source": [
    "# Set up KernelRidge\n",
    "from sklearn.kernel_ridge import KernelRidge\n",
    "\n",
    "clf = KernelRidge(alpha = 1e-5, kernel = gauss_kerl)\n",
    "clf.fit(test,y_train)"
   ]
  },
  {
   "cell_type": "code",
   "execution_count": 75,
   "metadata": {},
   "outputs": [],
   "source": [
    "# Training values\n",
    "train = clf.predict(test)"
   ]
  },
  {
   "cell_type": "code",
   "execution_count": 59,
   "metadata": {},
   "outputs": [],
   "source": [
    "# Apply to rest of data set\n",
    "X_rest = X[150:]\n",
    "y_rest = y[150:]\n",
    "\n",
    "X_rest = np.reshape(X_rest, (len(X_rest),49))"
   ]
  },
  {
   "cell_type": "code",
   "execution_count": 60,
   "metadata": {},
   "outputs": [
    {
     "data": {
      "text/plain": [
       "array([2.42456981, 3.37008508, 2.76254303, 2.40413846, 4.69556147,\n",
       "       3.1530206 , 5.91956832, 1.76109463, 3.21068115, 2.77523385,\n",
       "       2.1630804 , 3.1062577 , 2.07420433, 3.68579305, 2.94987621,\n",
       "       1.73324799, 3.17505451, 3.00282604, 3.03703335, 2.27859036,\n",
       "       3.25375463, 0.58667658, 3.30110003, 3.11777244, 3.43365531,\n",
       "       2.76848876, 2.42954244, 2.16909078, 3.46346253, 4.3833607 ,\n",
       "       2.45843569, 3.68051635, 3.30359547, 2.10476514, 3.98124136,\n",
       "       2.96957684, 3.84504418, 6.61553709, 3.15364894, 2.06257845,\n",
       "       1.88533956, 4.09288291, 4.33929376, 2.66160665, 2.62172493,\n",
       "       2.37257135, 2.30055093, 2.96046328, 1.97475089, 4.25065553,\n",
       "       3.75508979, 5.06820863, 2.68240758, 3.03539627, 2.51667337,\n",
       "       4.05466024, 3.03923095, 5.11051944, 3.83404095, 3.45510968,\n",
       "       4.27292378, 3.52392045, 3.56262103, 3.70479862, 3.67438511,\n",
       "       5.19595771, 2.90525609, 3.50258226, 2.83610992, 3.18903145,\n",
       "       5.19764309, 3.0576003 , 2.38482453, 2.71158615, 1.97778608,\n",
       "       5.12432063, 3.88156315, 2.93900669, 1.79763682, 3.17700901,\n",
       "       1.83793537, 4.44324131, 0.62619132, 3.24284626, 4.26833806,\n",
       "       3.76137967, 2.20442907, 2.26968603, 2.62246094, 2.82362365,\n",
       "       2.17237287, 2.25625916, 3.03882363, 2.54729266, 1.29372965,\n",
       "       3.09194641, 2.09366512, 2.73499396, 2.82775304, 3.23949978,\n",
       "       2.55983959, 3.57401315, 1.81347122, 2.60854742, 1.51974896,\n",
       "       3.37004334, 3.31621576, 4.04997529, 4.28992939, 3.34153562,\n",
       "       3.65985466, 4.37457295, 1.60685921, 2.4132191 , 2.09671023,\n",
       "       2.58780817, 2.54367982, 3.97119024, 4.32447509, 3.32369557,\n",
       "       3.95290258, 1.02575932, 1.84975738, 5.25071852, 3.53908058,\n",
       "       3.88515637, 2.0053555 , 3.99692   , 3.1873426 , 2.44754194,\n",
       "       4.15158706, 0.78722779, 2.56105965, 4.63167229])"
      ]
     },
     "execution_count": 60,
     "metadata": {},
     "output_type": "execute_result"
    }
   ],
   "source": [
    "# Apply to data\n",
    "clf.predict(X_rest)"
   ]
  },
  {
   "cell_type": "code",
   "execution_count": 123,
   "metadata": {},
   "outputs": [
    {
     "name": "stdout",
     "output_type": "stream",
     "text": [
      "284\n"
     ]
    }
   ],
   "source": [
    "print(len(test_2))"
   ]
  },
  {
   "cell_type": "code",
   "execution_count": 126,
   "metadata": {},
   "outputs": [
    {
     "name": "stdout",
     "output_type": "stream",
     "text": [
      "1.0301499215538537\n",
      "Power_divergenceResult(statistic=14.295811338966756, pvalue=1.0)\n"
     ]
    }
   ],
   "source": [
    "# Find standard error on test\n",
    "err = clf.predict(test_2[150:]).std()\n",
    "print(err)\n",
    "\n",
    "# Also evaluate chi-square:\n",
    "chi_kr = scipy.stats.chisquare(clf.predict(test_2[150:]),bgs[150:])\n",
    "print(chi_kr)\n",
    "\n"
   ]
  },
  {
   "cell_type": "code",
   "execution_count": 88,
   "metadata": {},
   "outputs": [
    {
     "data": {
      "text/plain": [
       "<matplotlib.legend.Legend at 0x7f2e6354f450>"
      ]
     },
     "execution_count": 88,
     "metadata": {},
     "output_type": "execute_result"
    },
    {
     "data": {
      "image/png": "[encoded data removed]",
      "text/plain": [
       "<Figure size 800x600 with 1 Axes>"
      ]
     },
     "metadata": {
      "needs_background": "light"
     },
     "output_type": "display_data"
    }
   ],
   "source": [
    "# Plot\n",
    "plt.figure(figsize = [4,3], dpi = 200)\n",
    "\n",
    "# Data\n",
    "plt.plot(bgs,bgs, linestyle = '--', linewidth = 0.7, color = 'black', label = 'Data')\n",
    "\n",
    "# Training set\n",
    "plt.scatter(bgs[:150],train, color = 'tab:blue', linewidth = 0.4, s = 5, label = 'Training Set')\n",
    "\n",
    "# Test Set \n",
    "plt.scatter(bgs[150:],clf.predict(test_2[150:]), marker = '^', color = 'tab:orange', linewidth = 0.4, s = 5, label = 'Model')\n",
    "\n",
    "plt.xlabel('Expected Bandgap Energy (eV)')\n",
    "plt.ylabel('Inferred Bandgap Energy (eV)')\n",
    "\n",
    "plt.title('Kernel Ridge Analysis)')\n",
    "\n",
    "plt.legend(fontsize = 8)"
   ]
  },
  {
   "cell_type": "markdown",
   "metadata": {},
   "source": [
    "# Problem 2\n",
    "\n",
    "Now we will be performing Gaussian Process Regression on the same polymer data from Problem 1.\n",
    "\n",
    "Use an `sklearn.model_selection.GridSearchCV` object to optimize the hyperparameters of an `sklearn.gaussian_process.GaussianProcessRegressor` object applied to the polymer data.  There are examples on the sci-kit learn website on how to use `GridSearchCV`.  \n",
    "\n",
    "Use the same split as before to train then test the model.  \n",
    "\n",
    "Plot the model and true results as in Problem 1, and determine the error.  Comment on your results and compare to Problem 1.  Once trained, what is the error on the training data?  Explain.\n",
    "\n"
   ]
  },
  {
   "cell_type": "code",
   "execution_count": 114,
   "metadata": {},
   "outputs": [],
   "source": [
    "# Import relevant packages\n",
    "from sklearn.model_selection import GridSearchCV\n",
    "from sklearn.gaussian_process import GaussianProcessRegressor\n",
    "\n",
    "\n",
    "from sklearn.gaussian_process.kernels import RBF, ExpSineSquared\n",
    "from sklearn.kernel_ridge import KernelRidge\n"
   ]
  },
  {
   "cell_type": "code",
   "execution_count": 115,
   "metadata": {
    "scrolled": false
   },
   "outputs": [
    {
     "name": "stderr",
     "output_type": "stream",
     "text": [
      "/home/idies/miniconda3/envs/py37/lib/python3.7/site-packages/sklearn/model_selection/_split.py:1978: FutureWarning: The default value of cv will change from 3 to 5 in version 0.22. Specify it explicitly to silence this warning.\n",
      "  warnings.warn(CV_WARNING, FutureWarning)\n"
     ]
    },
    {
     "data": {
      "text/plain": [
       "GridSearchCV(cv='warn', error_score='raise-deprecating',\n",
       "             estimator=GaussianProcessRegressor(alpha=1e-10, copy_X_train=True,\n",
       "                                                kernel=None,\n",
       "                                                n_restarts_optimizer=0,\n",
       "                                                normalize_y=False,\n",
       "                                                optimizer='fmin_l_bfgs_b',\n",
       "                                                random_state=None),\n",
       "             iid='warn', n_jobs=None,\n",
       "             param_grid={'alpha': array([1.00000000e+00, 5.62341325e-02, 3.16227766e-03, 1.77827941e-04,\n",
       "       1.00000000e-05]),\n",
       "                         'kern...\n",
       "                                    RBF(length_scale=0.0811),\n",
       "                                    RBF(length_scale=0.118),\n",
       "                                    RBF(length_scale=0.171),\n",
       "                                    RBF(length_scale=0.248),\n",
       "                                    RBF(length_scale=0.359),\n",
       "                                    RBF(length_scale=0.521),\n",
       "                                    RBF(length_scale=0.756),\n",
       "                                    RBF(length_scale=1.1),\n",
       "                                    RBF(length_scale=1.59),\n",
       "                                    RBF(length_scale=2.31),\n",
       "                                    RBF(length_scale=3.35),\n",
       "                                    RBF(length_scale=4.86), ...]},\n",
       "             pre_dispatch='2*n_jobs', refit=True, return_train_score=False,\n",
       "             scoring=None, verbose=0)"
      ]
     },
     "execution_count": 115,
     "metadata": {},
     "output_type": "execute_result"
    }
   ],
   "source": [
    "# Repeat using gridsearch:\n",
    "param_grid = {\"alpha\": np.logspace(0,-5,5),\n",
    "              \"kernel\": [RBF(l)\n",
    "                         for l in np.logspace(-4, 12, 100)]\n",
    "                         }\n",
    "gpr = GridSearchCV(GaussianProcessRegressor(), param_grid=param_grid)\n",
    "\n",
    "# Fit to first 150 points\n",
    "gpr.fit(test, y_train)\n",
    "\n",
    "\n",
    "\n"
   ]
  },
  {
   "cell_type": "code",
   "execution_count": 116,
   "metadata": {},
   "outputs": [
    {
     "name": "stdout",
     "output_type": "stream",
     "text": [
      "{'alpha': 0.05623413251903491, 'kernel': RBF(length_scale=0.248)}\n"
     ]
    }
   ],
   "source": [
    "print(gpr.best_params_)"
   ]
  },
  {
   "cell_type": "code",
   "execution_count": 117,
   "metadata": {},
   "outputs": [],
   "source": [
    "# Training values\n",
    "train_gpr = gpr.predict(test)"
   ]
  },
  {
   "cell_type": "code",
   "execution_count": 118,
   "metadata": {},
   "outputs": [],
   "source": [
    "# Apply to rest of data set\n",
    "X_rest_gpr = X[150:]\n",
    "y_rest_gpr = y[150:]\n",
    "\n",
    "X_rest_gpr = np.reshape(X_rest, (len(X_rest),49))"
   ]
  },
  {
   "cell_type": "code",
   "execution_count": 119,
   "metadata": {},
   "outputs": [
    {
     "data": {
      "text/plain": [
       "<matplotlib.legend.Legend at 0x7f2e67d53110>"
      ]
     },
     "execution_count": 119,
     "metadata": {},
     "output_type": "execute_result"
    },
    {
     "data": {
      "image/png": "[encoded data removed]",
      "text/plain": [
       "<Figure size 800x600 with 1 Axes>"
      ]
     },
     "metadata": {
      "needs_background": "light"
     },
     "output_type": "display_data"
    }
   ],
   "source": [
    "# Plot\n",
    "plt.figure(figsize = [4,3], dpi = 200)\n",
    "\n",
    "# Data\n",
    "plt.plot(bgs,bgs, linestyle = '-.', linewidth = 0.5, color = 'black', label = 'Data')\n",
    "\n",
    "# Training set\n",
    "plt.scatter(bgs[:150],train_gpr, color = 'tab:blue', linewidth = 0.4, s = 5, label = 'Training Set')\n",
    "\n",
    "# Model \n",
    "plt.scatter(bgs[150:],gpr.predict(X_rest_gpr), marker = '^', color = 'tab:orange', linewidth = 0.4, s = 5, label = 'Model')\n",
    "\n",
    "plt.xlabel('Expected Bandgap Energy (eV)')\n",
    "plt.ylabel('Inferred Bandgap Energy (eV)')\n",
    "plt.title('GPR Analysis')\n",
    "\n",
    "plt.legend(fontsize = 8)"
   ]
  },
  {
   "cell_type": "code",
   "execution_count": 121,
   "metadata": {},
   "outputs": [
    {
     "name": "stdout",
     "output_type": "stream",
     "text": [
      "Power_divergenceResult(statistic=1.451295298775905, pvalue=1.0)\n"
     ]
    }
   ],
   "source": [
    "# Evaluate error of training set\n",
    "\n",
    "chi_gpr = scipy.stats.chisquare(train_gpr,bgs[:150])\n",
    "print(chi_gpr)"
   ]
  },
  {
   "cell_type": "markdown",
   "metadata": {},
   "source": [
    "As evident from the two graphs and the errors, the training set for GPR does a comperable job to the Kernel Ridge analysis with the custom gaussian Kernel. The test data however struggles to reach  the expected values for both cases and appears to be noticbly less effective for the GPR analysis. "
   ]
  }
 ],
 "metadata": {
  "kernelspec": {
   "display_name": "Python 3.7 (py37)",
   "language": "python",
   "name": "py37"
  },
  "language_info": {
   "codemirror_mode": {
    "name": "ipython",
    "version": 3
   },
   "file_extension": ".py",
   "mimetype": "text/x-python",
   "name": "python",
   "nbconvert_exporter": "python",
   "pygments_lexer": "ipython3",
   "version": "3.7.4"
  }
 },
 "nbformat": 4,
 "nbformat_minor": 2
}
